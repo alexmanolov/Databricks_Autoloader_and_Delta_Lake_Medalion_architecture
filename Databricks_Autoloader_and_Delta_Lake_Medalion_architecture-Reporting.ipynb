{
 "cells": [
  {
   "cell_type": "markdown",
   "metadata": {
    "application/vnd.databricks.v1+cell": {
     "cellMetadata": {},
     "inputWidgets": {},
     "nuid": "7d8dd2c1-ff5b-4a03-896b-6d90f842133c",
     "showTitle": false,
     "tableResultSettingsMap": {},
     "title": ""
    }
   },
   "source": [
    "Task 4\n",
    "\n",
    "Overview: Create the following reports based on the gold layer data:\n",
    "- Create a report that shows summarized number of sales and revenue for\n",
    "each state\n",
    "- Create a report that shows top 3 customers for each state based on the\n",
    "spent amount and their most expensive item bought\n",
    "- Create a report that shows sales by product category per month for all\n",
    "customers who live in the state of NY for 3 different age group 0-30yo, 30-\n",
    "60yo and above 60 yo"
   ]
  },
  {
   "cell_type": "code",
   "execution_count": 0,
   "metadata": {
    "application/vnd.databricks.v1+cell": {
     "cellMetadata": {
      "byteLimit": 2048000,
      "implicitDf": true,
      "rowLimit": 10000
     },
     "inputWidgets": {},
     "nuid": "ec6ca687-fc8a-4476-a9b9-217a94619e67",
     "showTitle": false,
     "tableResultSettingsMap": {},
     "title": ""
    }
   },
   "outputs": [
    {
     "data": {
      "text/html": [
       "<style scoped>\n",
       "  .table-result-container {\n",
       "    max-height: 300px;\n",
       "    overflow: auto;\n",
       "  }\n",
       "  table, th, td {\n",
       "    border: 1px solid black;\n",
       "    border-collapse: collapse;\n",
       "  }\n",
       "  th, td {\n",
       "    padding: 5px;\n",
       "  }\n",
       "  th {\n",
       "    text-align: left;\n",
       "  }\n",
       "</style><div class='table-result-container'><table class='table-result'><thead style='background-color: white'><tr><th>state</th><th>total_sales</th><th>total_revenue</th></tr></thead><tbody><tr><td>WI</td><td>14</td><td>112335.06999999999</td></tr><tr><td>NY</td><td>7</td><td>1074.67</td></tr><tr><td>IA</td><td>4</td><td>5565.02</td></tr><tr><td>MI</td><td>2</td><td>416.58</td></tr><tr><td>IN</td><td>2</td><td>14138.88</td></tr><tr><td>MN</td><td>1</td><td>115.62</td></tr><tr><td>PA</td><td>1</td><td>105.0</td></tr></tbody></table></div>"
      ]
     },
     "metadata": {
      "application/vnd.databricks.v1+output": {
       "addedWidgets": {},
       "aggData": [],
       "aggError": "",
       "aggOverflow": false,
       "aggSchema": [],
       "aggSeriesLimitReached": false,
       "aggType": "",
       "arguments": {},
       "columnCustomDisplayInfos": {},
       "data": [
        [
         "WI",
         14,
         112335.06999999999
        ],
        [
         "NY",
         7,
         1074.67
        ],
        [
         "IA",
         4,
         5565.02
        ],
        [
         "MI",
         2,
         416.58
        ],
        [
         "IN",
         2,
         14138.88
        ],
        [
         "MN",
         1,
         115.62
        ],
        [
         "PA",
         1,
         105
        ]
       ],
       "datasetInfos": [
        {
         "name": "_sqldf",
         "schema": {
          "fields": [
           {
            "metadata": {},
            "name": "state",
            "nullable": true,
            "type": "string"
           },
           {
            "metadata": {},
            "name": "total_sales",
            "nullable": false,
            "type": "long"
           },
           {
            "metadata": {},
            "name": "total_revenue",
            "nullable": true,
            "type": "double"
           }
          ],
          "type": "struct"
         },
         "tableIdentifier": null,
         "typeStr": "pyspark.sql.connect.dataframe.DataFrame"
        }
       ],
       "dbfsResultPath": null,
       "isJsonSchema": true,
       "metadata": {
        "createTempViewForImplicitDf": true,
        "dataframeName": "_sqldf",
        "executionCount": 33
       },
       "overflow": false,
       "plotOptions": {
        "customPlotOptions": {},
        "displayType": "table",
        "pivotAggregation": null,
        "pivotColumns": null,
        "xColumns": null,
        "yColumns": null
       },
       "removedWidgets": [],
       "schema": [
        {
         "metadata": "{}",
         "name": "state",
         "type": "\"string\""
        },
        {
         "metadata": "{}",
         "name": "total_sales",
         "type": "\"long\""
        },
        {
         "metadata": "{}",
         "name": "total_revenue",
         "type": "\"double\""
        }
       ],
       "type": "table"
      }
     },
     "output_type": "display_data"
    }
   ],
   "source": [
    "%sql\n",
    "\n",
    "---------------\n",
    "---- Task 4 ---\n",
    "---------------\n",
    "\n",
    "-- SUM num of sales and revenue by state\n",
    "SELECT \n",
    "    c.cust_address_state_province AS state,\n",
    "    COUNT(f.order_id) AS total_sales,\n",
    "    SUM(f.unit_price * f.quantity) AS total_revenue\n",
    "FROM de_pyspark_training_catalog.buddy_group_1.amanolov_gold_fact_orders_exam f\n",
    "JOIN de_pyspark_training_catalog.buddy_group_1.amanolov_gold_dim_customers_exam c\n",
    "    ON f.cust_sk = c.cust_sk\n",
    "GROUP BY c.cust_address_state_province\n",
    "ORDER BY total_sales DESC;"
   ]
  },
  {
   "cell_type": "code",
   "execution_count": 0,
   "metadata": {
    "application/vnd.databricks.v1+cell": {
     "cellMetadata": {
      "byteLimit": 2048000,
      "implicitDf": true,
      "rowLimit": 10000
     },
     "inputWidgets": {},
     "nuid": "cf312122-7677-4bf0-ab08-f419d3e4d305",
     "showTitle": false,
     "tableResultSettingsMap": {},
     "title": ""
    }
   },
   "outputs": [
    {
     "data": {
      "text/html": [
       "<style scoped>\n",
       "  .table-result-container {\n",
       "    max-height: 300px;\n",
       "    overflow: auto;\n",
       "  }\n",
       "  table, th, td {\n",
       "    border: 1px solid black;\n",
       "    border-collapse: collapse;\n",
       "  }\n",
       "  th, td {\n",
       "    padding: 5px;\n",
       "  }\n",
       "  th {\n",
       "    text-align: left;\n",
       "  }\n",
       "</style><div class='table-result-container'><table class='table-result'><thead style='background-color: white'><tr><th>state</th><th>cust_first_name</th><th>cust_last_name</th><th>total_spent</th><th>most_expensive_item</th></tr></thead><tbody><tr><td>IA</td><td>Sivaji</td><td>Landis</td><td>5565.02</td><td>74</td></tr><tr><td>IN</td><td>Harrison</td><td>Pacino</td><td>14080.0</td><td>880</td></tr><tr><td>IN</td><td>Constantin</td><td>Welles</td><td>58.88</td><td>14.72</td></tr><tr><td>MI</td><td>Meg</td><td>Derek</td><td>227.2</td><td>45.44</td></tr><tr><td>MI</td><td>Kyle</td><td>Schneider</td><td>189.38</td><td>94.69</td></tr><tr><td>MN</td><td>Dheeraj</td><td>Alexander</td><td>115.62</td><td>19.27</td></tr><tr><td>NY</td><td>Lauren</td><td>Hershey</td><td>584.9</td><td>72.5</td></tr><tr><td>NY</td><td>Harry dean</td><td>Forrest</td><td>349.65</td><td>48.5</td></tr><tr><td>NY</td><td>Blake</td><td>Seignier</td><td>81.30000000000001</td><td>13.55</td></tr><tr><td>PA</td><td>Fred</td><td>Lithgow</td><td>105.0</td><td>35.0</td></tr><tr><td>WI</td><td>Markus</td><td>Rampling</td><td>89409.2</td><td>949.3</td></tr><tr><td>WI</td><td>Elia</td><td>Fawcett</td><td>14074.529999999999</td><td>90.19</td></tr><tr><td>WI</td><td>Mammutti</td><td>Pacino</td><td>6237.0</td><td>115.5</td></tr></tbody></table></div>"
      ]
     },
     "metadata": {
      "application/vnd.databricks.v1+output": {
       "addedWidgets": {},
       "aggData": [],
       "aggError": "",
       "aggOverflow": false,
       "aggSchema": [],
       "aggSeriesLimitReached": false,
       "aggType": "",
       "arguments": {},
       "columnCustomDisplayInfos": {},
       "data": [
        [
         "IA",
         "Sivaji",
         "Landis",
         5565.02,
         "74"
        ],
        [
         "IN",
         "Harrison",
         "Pacino",
         14080,
         "880"
        ],
        [
         "IN",
         "Constantin",
         "Welles",
         58.88,
         "14.72"
        ],
        [
         "MI",
         "Meg",
         "Derek",
         227.2,
         "45.44"
        ],
        [
         "MI",
         "Kyle",
         "Schneider",
         189.38,
         "94.69"
        ],
        [
         "MN",
         "Dheeraj",
         "Alexander",
         115.62,
         "19.27"
        ],
        [
         "NY",
         "Lauren",
         "Hershey",
         584.9,
         "72.5"
        ],
        [
         "NY",
         "Harry dean",
         "Forrest",
         349.65,
         "48.5"
        ],
        [
         "NY",
         "Blake",
         "Seignier",
         81.30000000000001,
         "13.55"
        ],
        [
         "PA",
         "Fred",
         "Lithgow",
         105,
         "35.0"
        ],
        [
         "WI",
         "Markus",
         "Rampling",
         89409.2,
         "949.3"
        ],
        [
         "WI",
         "Elia",
         "Fawcett",
         14074.529999999999,
         "90.19"
        ],
        [
         "WI",
         "Mammutti",
         "Pacino",
         6237,
         "115.5"
        ]
       ],
       "datasetInfos": [
        {
         "name": "_sqldf",
         "schema": {
          "fields": [
           {
            "metadata": {},
            "name": "state",
            "nullable": true,
            "type": "string"
           },
           {
            "metadata": {},
            "name": "cust_first_name",
            "nullable": true,
            "type": "string"
           },
           {
            "metadata": {},
            "name": "cust_last_name",
            "nullable": true,
            "type": "string"
           },
           {
            "metadata": {},
            "name": "total_spent",
            "nullable": true,
            "type": "double"
           },
           {
            "metadata": {},
            "name": "most_expensive_item",
            "nullable": true,
            "type": "string"
           }
          ],
          "type": "struct"
         },
         "tableIdentifier": null,
         "typeStr": "pyspark.sql.connect.dataframe.DataFrame"
        }
       ],
       "dbfsResultPath": null,
       "isJsonSchema": true,
       "metadata": {
        "createTempViewForImplicitDf": true,
        "dataframeName": "_sqldf",
        "executionCount": 17
       },
       "overflow": false,
       "plotOptions": {
        "customPlotOptions": {},
        "displayType": "table",
        "pivotAggregation": null,
        "pivotColumns": null,
        "xColumns": null,
        "yColumns": null
       },
       "removedWidgets": [],
       "schema": [
        {
         "metadata": "{}",
         "name": "state",
         "type": "\"string\""
        },
        {
         "metadata": "{}",
         "name": "cust_first_name",
         "type": "\"string\""
        },
        {
         "metadata": "{}",
         "name": "cust_last_name",
         "type": "\"string\""
        },
        {
         "metadata": "{}",
         "name": "total_spent",
         "type": "\"double\""
        },
        {
         "metadata": "{}",
         "name": "most_expensive_item",
         "type": "\"string\""
        }
       ],
       "type": "table"
      }
     },
     "output_type": "display_data"
    }
   ],
   "source": [
    "%sql\n",
    "\n",
    "---------------\n",
    "---- Task 4 ---\n",
    "---------------\n",
    "\n",
    "-- Top 3 customers for each state based on the spent amount and their most expensive item bought\n",
    "WITH customer_sales AS (\n",
    "    SELECT \n",
    "        c.cust_address_state_province AS state,\n",
    "        c.cust_sk,\n",
    "        c.cust_first_name,\n",
    "        c.cust_last_name,\n",
    "        SUM(f.unit_price * f.quantity) AS total_spent,\n",
    "        MAX(f.unit_price) AS most_expensive_item\n",
    "    FROM de_pyspark_training_catalog.buddy_group_1.amanolov_gold_fact_orders_exam f\n",
    "    JOIN de_pyspark_training_catalog.buddy_group_1.amanolov_gold_dim_customers_exam c\n",
    "        ON f.cust_sk = c.cust_sk\n",
    "    GROUP BY c.cust_address_state_province, c.cust_sk, c.cust_first_name, c.cust_last_name\n",
    "),\n",
    "\n",
    "ranked_customers AS (\n",
    "    SELECT \n",
    "        state,\n",
    "        cust_first_name,\n",
    "        cust_last_name,\n",
    "        total_spent,\n",
    "        most_expensive_item,\n",
    "        ROW_NUMBER() OVER (PARTITION BY state ORDER BY total_spent DESC) AS rank\n",
    "    FROM customer_sales\n",
    ")\n",
    "\n",
    "SELECT \n",
    "    state,\n",
    "    cust_first_name,\n",
    "    cust_last_name,\n",
    "    total_spent,\n",
    "    most_expensive_item\n",
    "FROM ranked_customers\n",
    "WHERE rank <= 3\n",
    "ORDER BY state, rank;"
   ]
  },
  {
   "cell_type": "code",
   "execution_count": 0,
   "metadata": {
    "application/vnd.databricks.v1+cell": {
     "cellMetadata": {
      "byteLimit": 2048000,
      "implicitDf": true,
      "rowLimit": 10000
     },
     "inputWidgets": {},
     "nuid": "4a1118db-4faf-44d9-b717-09a11f2875b1",
     "showTitle": false,
     "tableResultSettingsMap": {},
     "title": ""
    }
   },
   "outputs": [
    {
     "data": {
      "text/html": [
       "<style scoped>\n",
       "  .table-result-container {\n",
       "    max-height: 300px;\n",
       "    overflow: auto;\n",
       "  }\n",
       "  table, th, td {\n",
       "    border: 1px solid black;\n",
       "    border-collapse: collapse;\n",
       "  }\n",
       "  th, td {\n",
       "    padding: 5px;\n",
       "  }\n",
       "  th {\n",
       "    text-align: left;\n",
       "  }\n",
       "</style><div class='table-result-container'><table class='table-result'><thead style='background-color: white'><tr><th>order_month</th><th>category_name</th><th>age_group</th><th>total_sales</th></tr></thead><tbody><tr><td>2022-07</td><td>hardware3</td><td>61+</td><td>81.30000000000001</td></tr><tr><td>2022-09</td><td>hardware3</td><td>61+</td><td>155.65</td></tr><tr><td>2024-04</td><td>hardware1</td><td>61+</td><td>45.08</td></tr><tr><td>2024-08</td><td>hardware3</td><td>61+</td><td>149.9</td></tr><tr><td>2024-10</td><td>hardware2</td><td>61+</td><td>13.74</td></tr><tr><td>2025-01</td><td>hardware3</td><td>61+</td><td>435.0</td></tr><tr><td>2025-04</td><td>hardware2</td><td>61+</td><td>194.0</td></tr></tbody></table></div>"
      ]
     },
     "metadata": {
      "application/vnd.databricks.v1+output": {
       "addedWidgets": {},
       "aggData": [],
       "aggError": "",
       "aggOverflow": false,
       "aggSchema": [],
       "aggSeriesLimitReached": false,
       "aggType": "",
       "arguments": {},
       "columnCustomDisplayInfos": {},
       "data": [
        [
         "2022-07",
         "hardware3",
         "61+",
         81.30000000000001
        ],
        [
         "2022-09",
         "hardware3",
         "61+",
         155.65
        ],
        [
         "2024-04",
         "hardware1",
         "61+",
         45.08
        ],
        [
         "2024-08",
         "hardware3",
         "61+",
         149.9
        ],
        [
         "2024-10",
         "hardware2",
         "61+",
         13.74
        ],
        [
         "2025-01",
         "hardware3",
         "61+",
         435
        ],
        [
         "2025-04",
         "hardware2",
         "61+",
         194
        ]
       ],
       "datasetInfos": [
        {
         "name": "_sqldf",
         "schema": {
          "fields": [
           {
            "metadata": {},
            "name": "order_month",
            "nullable": true,
            "type": "string"
           },
           {
            "metadata": {},
            "name": "category_name",
            "nullable": true,
            "type": "string"
           },
           {
            "metadata": {},
            "name": "age_group",
            "nullable": false,
            "type": "string"
           },
           {
            "metadata": {},
            "name": "total_sales",
            "nullable": true,
            "type": "double"
           }
          ],
          "type": "struct"
         },
         "tableIdentifier": null,
         "typeStr": "pyspark.sql.connect.dataframe.DataFrame"
        }
       ],
       "dbfsResultPath": null,
       "isJsonSchema": true,
       "metadata": {
        "createTempViewForImplicitDf": true,
        "dataframeName": "_sqldf",
        "executionCount": 17
       },
       "overflow": false,
       "plotOptions": {
        "customPlotOptions": {},
        "displayType": "table",
        "pivotAggregation": null,
        "pivotColumns": null,
        "xColumns": null,
        "yColumns": null
       },
       "removedWidgets": [],
       "schema": [
        {
         "metadata": "{}",
         "name": "order_month",
         "type": "\"string\""
        },
        {
         "metadata": "{}",
         "name": "category_name",
         "type": "\"string\""
        },
        {
         "metadata": "{}",
         "name": "age_group",
         "type": "\"string\""
        },
        {
         "metadata": "{}",
         "name": "total_sales",
         "type": "\"double\""
        }
       ],
       "type": "table"
      }
     },
     "output_type": "display_data"
    }
   ],
   "source": [
    "%sql\n",
    "\n",
    "---------------\n",
    "---- Task 4 ---\n",
    "---------------\n",
    "\n",
    "-- Sales by product category per month for all customers\n",
    "-- who live in the state of NY for 3 different age group 0-30yo, 30-60yo and above 60 yo\n",
    "\n",
    "WITH customers_ny AS (\n",
    "    SELECT \n",
    "        cust_sk,\n",
    "        cust_first_name,\n",
    "        cust_last_name,\n",
    "        date_of_birth,\n",
    "        cust_address_state_province,\n",
    "        FLOOR(DATEDIFF(CURRENT_DATE, date_of_birth) / 365.25) AS age\n",
    "    FROM de_pyspark_training_catalog.buddy_group_1.amanolov_gold_dim_customers_exam\n",
    "    WHERE cust_address_state_province = 'NY'\n",
    "),\n",
    "\n",
    "customers_with_age_group AS (\n",
    "    SELECT *,\n",
    "           CASE \n",
    "               WHEN age <= 30 THEN '0-30'\n",
    "               WHEN age > 30 AND age <= 60 THEN '31-60'\n",
    "               ELSE '61+'\n",
    "           END AS age_group\n",
    "    FROM customers_ny\n",
    "),\n",
    "\n",
    "sales_per_category AS (\n",
    "    SELECT \n",
    "        DATE_FORMAT(f.order_date, 'yyyy-MM') AS order_month,\n",
    "        p.category_name,\n",
    "        c.age_group,\n",
    "        SUM(CAST(f.unit_price AS DOUBLE) * CAST(f.quantity AS DOUBLE)) AS total_sales\n",
    "    FROM de_pyspark_training_catalog.buddy_group_1.amanolov_gold_fact_orders_exam f\n",
    "    JOIN de_pyspark_training_catalog.buddy_group_1.amanolov_gold_dim_products_exam p\n",
    "        ON f.product_sk = p.product_sk\n",
    "    JOIN customers_with_age_group c\n",
    "        ON f.cust_sk = c.cust_sk\n",
    "    WHERE f.order_date IS NOT NULL \n",
    "    GROUP BY order_month, p.category_name, c.age_group\n",
    ")\n",
    "\n",
    "SELECT * \n",
    "FROM sales_per_category\n",
    "ORDER BY order_month, category_name, age_group;"
   ]
  }
 ],
 "metadata": {
  "application/vnd.databricks.v1+notebook": {
   "computePreferences": null,
   "dashboards": [],
   "environmentMetadata": {
    "base_environment": "",
    "environment_version": "2"
   },
   "inputWidgetPreferences": null,
   "language": "python",
   "notebookMetadata": {
    "mostRecentlyExecutedCommandWithImplicitDF": {
     "commandId": 5375633204748151,
     "dataframes": [
      "_sqldf"
     ]
    },
    "pythonIndentUnit": 4
   },
   "notebookName": "Final exam",
   "widgets": {}
  },
  "language_info": {
   "name": "python"
  }
 },
 "nbformat": 4,
 "nbformat_minor": 0
}
