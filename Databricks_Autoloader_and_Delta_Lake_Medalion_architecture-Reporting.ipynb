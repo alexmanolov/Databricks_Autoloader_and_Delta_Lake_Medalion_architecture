{
 "cells": [
  {
   "cell_type": "markdown",
   "metadata": {
    "application/vnd.databricks.v1+cell": {
     "cellMetadata": {
      "byteLimit": 2048000,
      "rowLimit": 10000
     },
     "inputWidgets": {},
     "nuid": "7d8dd2c1-ff5b-4a03-896b-6d90f842133c",
     "showTitle": false,
     "tableResultSettingsMap": {},
     "title": ""
    }
   },
   "source": [
    "Task 4"
   ]
  },
  {
   "cell_type": "code",
   "execution_count": 0,
   "metadata": {
    "application/vnd.databricks.v1+cell": {
     "cellMetadata": {
      "byteLimit": 2048000,
      "implicitDf": true,
      "rowLimit": 10000
     },
     "inputWidgets": {},
     "nuid": "ec6ca687-fc8a-4476-a9b9-217a94619e67",
     "showTitle": false,
     "tableResultSettingsMap": {},
     "title": ""
    }
   },
   "outputs": [
    {
     "data": {
      "text/html": [
       "<style scoped>\n",
       "  .table-result-container {\n",
       "    max-height: 300px;\n",
       "    overflow: auto;\n",
       "  }\n",
       "  table, th, td {\n",
       "    border: 1px solid black;\n",
       "    border-collapse: collapse;\n",
       "  }\n",
       "  th, td {\n",
       "    padding: 5px;\n",
       "  }\n",
       "  th {\n",
       "    text-align: left;\n",
       "  }\n",
       "</style><div class='table-result-container'><table class='table-result'><thead style='background-color: white'><tr><th>state</th><th>total_sales</th><th>total_revenue</th></tr></thead><tbody><tr><td>WI</td><td>44</td><td>9139.96</td></tr><tr><td>NY</td><td>41</td><td>9059.189999999999</td></tr><tr><td>MN</td><td>16</td><td>3032.3400000000006</td></tr><tr><td>PA</td><td>8</td><td>1297.52</td></tr><tr><td>MI</td><td>7</td><td>1323.48</td></tr><tr><td>IA</td><td>4</td><td>1250.46</td></tr><tr><td>MD</td><td>3</td><td>872.6000000000001</td></tr><tr><td>IN</td><td>3</td><td>515.6800000000001</td></tr></tbody></table></div>"
      ]
     },
     "metadata": {
      "application/vnd.databricks.v1+output": {
       "addedWidgets": {},
       "aggData": [],
       "aggError": "",
       "aggOverflow": false,
       "aggSchema": [],
       "aggSeriesLimitReached": false,
       "aggType": "",
       "arguments": {},
       "columnCustomDisplayInfos": {},
       "data": [
        [
         "WI",
         44,
         9139.96
        ],
        [
         "NY",
         41,
         9059.189999999999
        ],
        [
         "MN",
         16,
         3032.3400000000006
        ],
        [
         "PA",
         8,
         1297.52
        ],
        [
         "MI",
         7,
         1323.48
        ],
        [
         "IA",
         4,
         1250.46
        ],
        [
         "MD",
         3,
         872.6000000000001
        ],
        [
         "IN",
         3,
         515.6800000000001
        ]
       ],
       "datasetInfos": [
        {
         "name": "_sqldf",
         "schema": {
          "fields": [
           {
            "metadata": {},
            "name": "state",
            "nullable": true,
            "type": "string"
           },
           {
            "metadata": {},
            "name": "total_sales",
            "nullable": false,
            "type": "long"
           },
           {
            "metadata": {},
            "name": "total_revenue",
            "nullable": true,
            "type": "double"
           }
          ],
          "type": "struct"
         },
         "tableIdentifier": null,
         "typeStr": "pyspark.sql.connect.dataframe.DataFrame"
        }
       ],
       "dbfsResultPath": null,
       "isJsonSchema": true,
       "metadata": {
        "createTempViewForImplicitDf": true,
        "dataframeName": "_sqldf",
        "executionCount": 131
       },
       "overflow": false,
       "plotOptions": {
        "customPlotOptions": {},
        "displayType": "table",
        "pivotAggregation": null,
        "pivotColumns": null,
        "xColumns": null,
        "yColumns": null
       },
       "removedWidgets": [],
       "schema": [
        {
         "metadata": "{}",
         "name": "state",
         "type": "\"string\""
        },
        {
         "metadata": "{}",
         "name": "total_sales",
         "type": "\"long\""
        },
        {
         "metadata": "{}",
         "name": "total_revenue",
         "type": "\"double\""
        }
       ],
       "type": "table"
      }
     },
     "output_type": "display_data"
    }
   ],
   "source": [
    "%sql\n",
    "----------------\n",
    "---- Task 4 ----\n",
    "----------------\n",
    "\n",
    "-- SUM number of sales and revenue by state\n",
    "SELECT \n",
    "    c.cust_address_state_province AS state,\n",
    "    COUNT(f.order_id) AS total_sales,\n",
    "    SUM(f.unit_price * f.quantity) AS total_revenue\n",
    "FROM de_pyspark_training_catalog.buddy_group_1.amanolov_gold_fact_orders_exam f\n",
    "JOIN de_pyspark_training_catalog.buddy_group_1.amanolov_gold_dim_customers_exam c\n",
    "    ON f.cust_sk = c.cust_sk\n",
    "GROUP BY c.cust_address_state_province\n",
    "ORDER BY total_sales DESC;"
   ]
  },
  {
   "cell_type": "code",
   "execution_count": 0,
   "metadata": {
    "application/vnd.databricks.v1+cell": {
     "cellMetadata": {
      "byteLimit": 2048000,
      "implicitDf": true,
      "rowLimit": 10000
     },
     "inputWidgets": {},
     "nuid": "cf312122-7677-4bf0-ab08-f419d3e4d305",
     "showTitle": false,
     "tableResultSettingsMap": {},
     "title": ""
    }
   },
   "outputs": [
    {
     "data": {
      "text/html": [
       "<style scoped>\n",
       "  .table-result-container {\n",
       "    max-height: 300px;\n",
       "    overflow: auto;\n",
       "  }\n",
       "  table, th, td {\n",
       "    border: 1px solid black;\n",
       "    border-collapse: collapse;\n",
       "  }\n",
       "  th, td {\n",
       "    padding: 5px;\n",
       "  }\n",
       "  th {\n",
       "    text-align: left;\n",
       "  }\n",
       "</style><div class='table-result-container'><table class='table-result'><thead style='background-color: white'><tr><th>state</th><th>cust_first_name</th><th>cust_last_name</th><th>total_spent</th><th>most_expensive_item</th></tr></thead><tbody><tr><td>IA</td><td>Sivaji</td><td>Landis</td><td>1250.46</td><td>68.15</td></tr><tr><td>IN</td><td>Constantin</td><td>Welles</td><td>365.6</td><td>91.4</td></tr><tr><td>IN</td><td>Harrison</td><td>Pacino</td><td>150.07999999999998</td><td>35.0</td></tr><tr><td>MD</td><td>Prem</td><td>Walken</td><td>872.6000000000001</td><td>93.31</td></tr><tr><td>MI</td><td>Meg</td><td>Derek</td><td>816.26</td><td>45.44</td></tr><tr><td>MI</td><td>Prem</td><td>Garcia</td><td>317.84</td><td>79.46</td></tr><tr><td>MI</td><td>Kyle</td><td>Schneider</td><td>189.38</td><td>94.69</td></tr><tr><td>MN</td><td>Hema</td><td>Powell</td><td>1084.67</td><td>68.15</td></tr><tr><td>MN</td><td>Dheeraj</td><td>Alexander</td><td>582.0</td><td>25.91</td></tr><tr><td>MN</td><td>Harry Dean</td><td>Fonda</td><td>443.19</td><td>35.0</td></tr><tr><td>NY</td><td>Lauren</td><td>Hershey</td><td>1917.7600000000002</td><td>94.69</td></tr><tr><td>NY</td><td>Bob</td><td>McCarthy</td><td>1746.11</td><td>79.46</td></tr><tr><td>NY</td><td>Harry dean</td><td>Forrest</td><td>1189.6200000000001</td><td>79.46</td></tr><tr><td>PA</td><td>Fred</td><td>Lithgow</td><td>890.5799999999999</td><td>79.46</td></tr><tr><td>PA</td><td>Irene</td><td>Laughton</td><td>361.86</td><td>35.31</td></tr><tr><td>PA</td><td>Prem</td><td>Cardinale</td><td>45.08</td><td>11.27</td></tr><tr><td>WI</td><td>Elia</td><td>Fawcett</td><td>1046.75</td><td>90.19</td></tr><tr><td>WI</td><td>Gustav</td><td>Steenburgen</td><td>955.5900000000001</td><td>79.46</td></tr><tr><td>WI</td><td>Ishwarya</td><td>Roberts</td><td>899.8900000000001</td><td>79.46</td></tr></tbody></table></div>"
      ]
     },
     "metadata": {
      "application/vnd.databricks.v1+output": {
       "addedWidgets": {},
       "aggData": [],
       "aggError": "",
       "aggOverflow": false,
       "aggSchema": [],
       "aggSeriesLimitReached": false,
       "aggType": "",
       "arguments": {},
       "columnCustomDisplayInfos": {},
       "data": [
        [
         "IA",
         "Sivaji",
         "Landis",
         1250.46,
         68.15
        ],
        [
         "IN",
         "Constantin",
         "Welles",
         365.6,
         91.4
        ],
        [
         "IN",
         "Harrison",
         "Pacino",
         150.07999999999998,
         35
        ],
        [
         "MD",
         "Prem",
         "Walken",
         872.6000000000001,
         93.31
        ],
        [
         "MI",
         "Meg",
         "Derek",
         816.26,
         45.44
        ],
        [
         "MI",
         "Prem",
         "Garcia",
         317.84,
         79.46
        ],
        [
         "MI",
         "Kyle",
         "Schneider",
         189.38,
         94.69
        ],
        [
         "MN",
         "Hema",
         "Powell",
         1084.67,
         68.15
        ],
        [
         "MN",
         "Dheeraj",
         "Alexander",
         582,
         25.91
        ],
        [
         "MN",
         "Harry Dean",
         "Fonda",
         443.19,
         35
        ],
        [
         "NY",
         "Lauren",
         "Hershey",
         1917.7600000000002,
         94.69
        ],
        [
         "NY",
         "Bob",
         "McCarthy",
         1746.11,
         79.46
        ],
        [
         "NY",
         "Harry dean",
         "Forrest",
         1189.6200000000001,
         79.46
        ],
        [
         "PA",
         "Fred",
         "Lithgow",
         890.5799999999999,
         79.46
        ],
        [
         "PA",
         "Irene",
         "Laughton",
         361.86,
         35.31
        ],
        [
         "PA",
         "Prem",
         "Cardinale",
         45.08,
         11.27
        ],
        [
         "WI",
         "Elia",
         "Fawcett",
         1046.75,
         90.19
        ],
        [
         "WI",
         "Gustav",
         "Steenburgen",
         955.5900000000001,
         79.46
        ],
        [
         "WI",
         "Ishwarya",
         "Roberts",
         899.8900000000001,
         79.46
        ]
       ],
       "datasetInfos": [
        {
         "name": "_sqldf",
         "schema": {
          "fields": [
           {
            "metadata": {},
            "name": "state",
            "nullable": true,
            "type": "string"
           },
           {
            "metadata": {},
            "name": "cust_first_name",
            "nullable": true,
            "type": "string"
           },
           {
            "metadata": {},
            "name": "cust_last_name",
            "nullable": true,
            "type": "string"
           },
           {
            "metadata": {},
            "name": "total_spent",
            "nullable": true,
            "type": "double"
           },
           {
            "metadata": {},
            "name": "most_expensive_item",
            "nullable": true,
            "type": "double"
           }
          ],
          "type": "struct"
         },
         "tableIdentifier": null,
         "typeStr": "pyspark.sql.connect.dataframe.DataFrame"
        }
       ],
       "dbfsResultPath": null,
       "isJsonSchema": true,
       "metadata": {
        "createTempViewForImplicitDf": true,
        "dataframeName": "_sqldf",
        "executionCount": 132
       },
       "overflow": false,
       "plotOptions": {
        "customPlotOptions": {},
        "displayType": "table",
        "pivotAggregation": null,
        "pivotColumns": null,
        "xColumns": null,
        "yColumns": null
       },
       "removedWidgets": [],
       "schema": [
        {
         "metadata": "{}",
         "name": "state",
         "type": "\"string\""
        },
        {
         "metadata": "{}",
         "name": "cust_first_name",
         "type": "\"string\""
        },
        {
         "metadata": "{}",
         "name": "cust_last_name",
         "type": "\"string\""
        },
        {
         "metadata": "{}",
         "name": "total_spent",
         "type": "\"double\""
        },
        {
         "metadata": "{}",
         "name": "most_expensive_item",
         "type": "\"double\""
        }
       ],
       "type": "table"
      }
     },
     "output_type": "display_data"
    }
   ],
   "source": [
    "%sql\n",
    "\n",
    "---------------\n",
    "---- Task 4 ---\n",
    "---------------\n",
    "\n",
    "-- Top 3 customers for each state based on the spent amount and their most expensive item bought\n",
    "WITH customer_sales AS (\n",
    "    SELECT \n",
    "        c.cust_address_state_province AS state,\n",
    "        c.cust_sk,\n",
    "        c.cust_first_name,\n",
    "        c.cust_last_name,\n",
    "        SUM(f.unit_price * f.quantity) AS total_spent,\n",
    "        MAX(f.unit_price) AS most_expensive_item\n",
    "    FROM de_pyspark_training_catalog.buddy_group_1.amanolov_gold_fact_orders_exam f\n",
    "    JOIN de_pyspark_training_catalog.buddy_group_1.amanolov_gold_dim_customers_exam c\n",
    "        ON f.cust_sk = c.cust_sk\n",
    "    GROUP BY c.cust_address_state_province, c.cust_sk, c.cust_first_name, c.cust_last_name\n",
    "),\n",
    "\n",
    "ranked_customers AS (\n",
    "    SELECT \n",
    "        state,\n",
    "        cust_first_name,\n",
    "        cust_last_name,\n",
    "        total_spent,\n",
    "        most_expensive_item,\n",
    "        ROW_NUMBER() OVER (PARTITION BY state ORDER BY total_spent DESC) AS rank\n",
    "    FROM customer_sales\n",
    ")\n",
    "\n",
    "SELECT \n",
    "    state,\n",
    "    cust_first_name,\n",
    "    cust_last_name,\n",
    "    total_spent,\n",
    "    most_expensive_item\n",
    "FROM ranked_customers\n",
    "WHERE rank <= 3\n",
    "ORDER BY state, rank;"
   ]
  },
  {
   "cell_type": "code",
   "execution_count": 0,
   "metadata": {
    "application/vnd.databricks.v1+cell": {
     "cellMetadata": {
      "byteLimit": 2048000,
      "implicitDf": true,
      "rowLimit": 10000
     },
     "inputWidgets": {},
     "nuid": "4a1118db-4faf-44d9-b717-09a11f2875b1",
     "showTitle": false,
     "tableResultSettingsMap": {},
     "title": ""
    }
   },
   "outputs": [
    {
     "data": {
      "text/plain": []
     },
     "metadata": {
      "application/vnd.databricks.v1+output": {
       "addedWidgets": {},
       "arguments": {},
       "datasetInfos": [],
       "jupyterProps": null,
       "metadata": {
        "errorSummary": "Command skipped"
       },
       "removedWidgets": [],
       "sqlProps": null,
       "stackFrames": [],
       "type": "baseError"
      }
     },
     "output_type": "display_data"
    }
   ],
   "source": [
    "%sql\n",
    "\n",
    "---------------\n",
    "---- Task 4 ---\n",
    "---------------\n",
    "\n",
    "-- Sales by product category per month for all customers\n",
    "-- who live in the state of NY for 3 different age group 0-30yo, 30-60yo and above 60 yo\n",
    "\n",
    "WITH customers_ny AS (\n",
    "    SELECT \n",
    "        cust_sk,\n",
    "        cust_first_name,\n",
    "        cust_last_name,\n",
    "        date_of_birth,\n",
    "        cust_address_state_province,\n",
    "        FLOOR(DATEDIFF(CURRENT_DATE, date_of_birth) / 365.25) AS age\n",
    "    FROM de_pyspark_training_catalog.buddy_group_1.amanolov_gold_dim_customers_exam\n",
    "    WHERE cust_address_state_province = 'NY'\n",
    "),\n",
    "\n",
    "customers_with_age_group AS (\n",
    "    SELECT *,\n",
    "           CASE \n",
    "               WHEN age <= 30 THEN '0-30'\n",
    "               WHEN age > 30 AND age <= 60 THEN '31-60'\n",
    "               ELSE '61+'\n",
    "           END AS age_group\n",
    "    FROM customers_ny\n",
    "),\n",
    "\n",
    "sales_per_category AS (\n",
    "    SELECT \n",
    "        DATE_FORMAT(f.order_date, 'yyyy-MM') AS order_month,\n",
    "        p.category_name,\n",
    "        c.age_group,\n",
    "        SUM(CAST(f.unit_price AS DOUBLE) * CAST(f.quantity AS DOUBLE)) AS total_sales\n",
    "    FROM de_pyspark_training_catalog.buddy_group_1.amanolov_gold_fact_orders_exam f\n",
    "    JOIN de_pyspark_training_catalog.buddy_group_1.amanolov_gold_dim_products_exam p\n",
    "        ON f.product_sk = p.product_sk\n",
    "    JOIN customers_with_age_group c\n",
    "        ON f.cust_sk = c.cust_sk\n",
    "    WHERE f.order_date IS NOT NULL \n",
    "    GROUP BY order_month, p.category_name, c.age_group\n",
    ")\n",
    "\n",
    "SELECT * \n",
    "FROM sales_per_category\n",
    "ORDER BY order_month, category_name, age_group;"
   ]
  }
 ],
 "metadata": {
  "application/vnd.databricks.v1+notebook": {
   "computePreferences": null,
   "dashboards": [],
   "environmentMetadata": {
    "base_environment": "",
    "environment_version": "2"
   },
   "inputWidgetPreferences": null,
   "language": "python",
   "notebookMetadata": {
    "mostRecentlyExecutedCommandWithImplicitDF": {
     "commandId": 5375633204748141,
     "dataframes": [
      "_sqldf"
     ]
    },
    "pythonIndentUnit": 4
   },
   "notebookName": "Final exam",
   "widgets": {}
  },
  "language_info": {
   "name": "python"
  }
 },
 "nbformat": 4,
 "nbformat_minor": 0
}
